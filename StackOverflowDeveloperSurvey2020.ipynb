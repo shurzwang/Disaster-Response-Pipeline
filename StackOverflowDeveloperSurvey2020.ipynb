{
 "cells": [
  {
   "cell_type": "markdown",
   "metadata": {},
   "source": [
    "# Are developers passinate about new programming language or framework? \n",
    "## <center>------   *Stack Overflow Developer Survey 2020 data analysis*   ----- </center>\n",
    "\n"
   ]
  },
  {
   "cell_type": "markdown",
   "metadata": {},
   "source": [
    "## Business Understanding\n",
    " Innovation is becoming more and more popular topic in IT and for developers. According to (Dominique Boucher 2017), in his article \"Programming languages and innovation\", \"It is always worthwhile to learn other programming paradigms and languages\". \n",
    " \n",
    " This is an exploratory work on data analysis of 2020 Stack Overflow Developer Survey, the largest and most comprehensive survey of software developers (and anyone else who codes!) on Earth, covering all sorts of information like programming languages, jobs, code style and more.\n",
    " \n",
    " There are six sections in the survey. In 2020, compared to 2019, new question, \"How frequently do you learn a new language or framework?\"  listed in the first place in section \"Technology and Tech Culture\".Data analysis and machine learning (Logistic regression, Adaboost classifications) are untilized to get some insight into the survey data.\n"
   ]
  },
  {
   "cell_type": "markdown",
   "metadata": {},
   "source": [
    "## Data Understanding\n",
    "Response from 47,487 respondent , who have jobs (\"Employed full-time\", \"Employed part-time\", \"Independent contractor\", \"freelancer, or self-employed\",  ) are being used for analysis.  Amony them, 2% of the respondent, chose they learn new language or framework  'Once a decade', 22.4% 'Once every few years', 33.7% 'Once a year'. The remaining 30.1%, who chose 'Every few months', are the group of developers who are most passinate about learning new language or frameworks."
   ]
  },
  {
   "cell_type": "code",
   "execution_count": 3,
   "metadata": {},
   "outputs": [
    {
     "data": {
      "text/html": [
       "<div>\n",
       "<style scoped>\n",
       "    .dataframe tbody tr th:only-of-type {\n",
       "        vertical-align: middle;\n",
       "    }\n",
       "\n",
       "    .dataframe tbody tr th {\n",
       "        vertical-align: top;\n",
       "    }\n",
       "\n",
       "    .dataframe thead th {\n",
       "        text-align: right;\n",
       "    }\n",
       "</style>\n",
       "<table border=\"1\" class=\"dataframe\">\n",
       "  <thead>\n",
       "    <tr style=\"text-align: right;\">\n",
       "      <th></th>\n",
       "      <th>Column</th>\n",
       "      <th>QuestionText</th>\n",
       "    </tr>\n",
       "  </thead>\n",
       "  <tbody>\n",
       "    <tr>\n",
       "      <th>0</th>\n",
       "      <td>Respondent</td>\n",
       "      <td>Randomized respondent ID number (not in order ...</td>\n",
       "    </tr>\n",
       "    <tr>\n",
       "      <th>1</th>\n",
       "      <td>MainBranch</td>\n",
       "      <td>Which of the following options best describes ...</td>\n",
       "    </tr>\n",
       "    <tr>\n",
       "      <th>2</th>\n",
       "      <td>Hobbyist</td>\n",
       "      <td>Do you code as a hobby?</td>\n",
       "    </tr>\n",
       "    <tr>\n",
       "      <th>3</th>\n",
       "      <td>Age</td>\n",
       "      <td>What is your age (in years)? If you prefer not...</td>\n",
       "    </tr>\n",
       "    <tr>\n",
       "      <th>4</th>\n",
       "      <td>Age1stCode</td>\n",
       "      <td>At what age did you write your first line of c...</td>\n",
       "    </tr>\n",
       "  </tbody>\n",
       "</table>\n",
       "</div>"
      ],
      "text/plain": [
       "       Column                                       QuestionText\n",
       "0  Respondent  Randomized respondent ID number (not in order ...\n",
       "1  MainBranch  Which of the following options best describes ...\n",
       "2    Hobbyist                            Do you code as a hobby?\n",
       "3         Age  What is your age (in years)? If you prefer not...\n",
       "4  Age1stCode  At what age did you write your first line of c..."
      ]
     },
     "execution_count": 3,
     "metadata": {},
     "output_type": "execute_result"
    }
   ],
   "source": [
    "import numpy as np\n",
    "import pandas as pd\n",
    "import matplotlib.pyplot as plt\n",
    "import seaborn as sns\n",
    "from sklearn.model_selection import train_test_split, RandomizedSearchCV\n",
    "from sklearn.linear_model import LogisticRegression\n",
    "from sklearn.ensemble import AdaBoostClassifier\n",
    "from sklearn.metrics import accuracy_score, precision_score, recall_score, f1_score\n",
    "%matplotlib inline\n",
    "\n",
    "df_raw = pd.read_csv('./survey_results_public.csv')\n",
    "schema = pd.read_csv('./survey_results_schema.csv')\n",
    "schema.head()"
   ]
  },
  {
   "cell_type": "code",
   "execution_count": 4,
   "metadata": {},
   "outputs": [
    {
     "data": {
      "text/html": [
       "<div>\n",
       "<style scoped>\n",
       "    .dataframe tbody tr th:only-of-type {\n",
       "        vertical-align: middle;\n",
       "    }\n",
       "\n",
       "    .dataframe tbody tr th {\n",
       "        vertical-align: top;\n",
       "    }\n",
       "\n",
       "    .dataframe thead th {\n",
       "        text-align: right;\n",
       "    }\n",
       "</style>\n",
       "<table border=\"1\" class=\"dataframe\">\n",
       "  <thead>\n",
       "    <tr style=\"text-align: right;\">\n",
       "      <th></th>\n",
       "      <th>Respondent</th>\n",
       "      <th>MainBranch</th>\n",
       "      <th>Hobbyist</th>\n",
       "      <th>Age</th>\n",
       "      <th>Age1stCode</th>\n",
       "      <th>CompFreq</th>\n",
       "      <th>CompTotal</th>\n",
       "      <th>ConvertedComp</th>\n",
       "      <th>Country</th>\n",
       "      <th>CurrencyDesc</th>\n",
       "      <th>...</th>\n",
       "      <th>SurveyEase</th>\n",
       "      <th>SurveyLength</th>\n",
       "      <th>Trans</th>\n",
       "      <th>UndergradMajor</th>\n",
       "      <th>WebframeDesireNextYear</th>\n",
       "      <th>WebframeWorkedWith</th>\n",
       "      <th>WelcomeChange</th>\n",
       "      <th>WorkWeekHrs</th>\n",
       "      <th>YearsCode</th>\n",
       "      <th>YearsCodePro</th>\n",
       "    </tr>\n",
       "  </thead>\n",
       "  <tbody>\n",
       "    <tr>\n",
       "      <th>0</th>\n",
       "      <td>1</td>\n",
       "      <td>I am a developer by profession</td>\n",
       "      <td>Yes</td>\n",
       "      <td>NaN</td>\n",
       "      <td>13</td>\n",
       "      <td>Monthly</td>\n",
       "      <td>NaN</td>\n",
       "      <td>NaN</td>\n",
       "      <td>Germany</td>\n",
       "      <td>European Euro</td>\n",
       "      <td>...</td>\n",
       "      <td>Neither easy nor difficult</td>\n",
       "      <td>Appropriate in length</td>\n",
       "      <td>No</td>\n",
       "      <td>Computer science, computer engineering, or sof...</td>\n",
       "      <td>ASP.NET Core</td>\n",
       "      <td>ASP.NET;ASP.NET Core</td>\n",
       "      <td>Just as welcome now as I felt last year</td>\n",
       "      <td>50.0</td>\n",
       "      <td>36</td>\n",
       "      <td>27</td>\n",
       "    </tr>\n",
       "    <tr>\n",
       "      <th>1</th>\n",
       "      <td>2</td>\n",
       "      <td>I am a developer by profession</td>\n",
       "      <td>No</td>\n",
       "      <td>NaN</td>\n",
       "      <td>19</td>\n",
       "      <td>NaN</td>\n",
       "      <td>NaN</td>\n",
       "      <td>NaN</td>\n",
       "      <td>United Kingdom</td>\n",
       "      <td>Pound sterling</td>\n",
       "      <td>...</td>\n",
       "      <td>NaN</td>\n",
       "      <td>NaN</td>\n",
       "      <td>NaN</td>\n",
       "      <td>Computer science, computer engineering, or sof...</td>\n",
       "      <td>NaN</td>\n",
       "      <td>NaN</td>\n",
       "      <td>Somewhat more welcome now than last year</td>\n",
       "      <td>NaN</td>\n",
       "      <td>7</td>\n",
       "      <td>4</td>\n",
       "    </tr>\n",
       "    <tr>\n",
       "      <th>2</th>\n",
       "      <td>3</td>\n",
       "      <td>I code primarily as a hobby</td>\n",
       "      <td>Yes</td>\n",
       "      <td>NaN</td>\n",
       "      <td>15</td>\n",
       "      <td>NaN</td>\n",
       "      <td>NaN</td>\n",
       "      <td>NaN</td>\n",
       "      <td>Russian Federation</td>\n",
       "      <td>NaN</td>\n",
       "      <td>...</td>\n",
       "      <td>Neither easy nor difficult</td>\n",
       "      <td>Appropriate in length</td>\n",
       "      <td>NaN</td>\n",
       "      <td>NaN</td>\n",
       "      <td>NaN</td>\n",
       "      <td>NaN</td>\n",
       "      <td>Somewhat more welcome now than last year</td>\n",
       "      <td>NaN</td>\n",
       "      <td>4</td>\n",
       "      <td>NaN</td>\n",
       "    </tr>\n",
       "    <tr>\n",
       "      <th>3</th>\n",
       "      <td>4</td>\n",
       "      <td>I am a developer by profession</td>\n",
       "      <td>Yes</td>\n",
       "      <td>25.0</td>\n",
       "      <td>18</td>\n",
       "      <td>NaN</td>\n",
       "      <td>NaN</td>\n",
       "      <td>NaN</td>\n",
       "      <td>Albania</td>\n",
       "      <td>Albanian lek</td>\n",
       "      <td>...</td>\n",
       "      <td>NaN</td>\n",
       "      <td>NaN</td>\n",
       "      <td>No</td>\n",
       "      <td>Computer science, computer engineering, or sof...</td>\n",
       "      <td>NaN</td>\n",
       "      <td>NaN</td>\n",
       "      <td>Somewhat less welcome now than last year</td>\n",
       "      <td>40.0</td>\n",
       "      <td>7</td>\n",
       "      <td>4</td>\n",
       "    </tr>\n",
       "    <tr>\n",
       "      <th>4</th>\n",
       "      <td>5</td>\n",
       "      <td>I used to be a developer by profession, but no...</td>\n",
       "      <td>Yes</td>\n",
       "      <td>31.0</td>\n",
       "      <td>16</td>\n",
       "      <td>NaN</td>\n",
       "      <td>NaN</td>\n",
       "      <td>NaN</td>\n",
       "      <td>United States</td>\n",
       "      <td>NaN</td>\n",
       "      <td>...</td>\n",
       "      <td>Easy</td>\n",
       "      <td>Too short</td>\n",
       "      <td>No</td>\n",
       "      <td>Computer science, computer engineering, or sof...</td>\n",
       "      <td>Django;Ruby on Rails</td>\n",
       "      <td>Ruby on Rails</td>\n",
       "      <td>Just as welcome now as I felt last year</td>\n",
       "      <td>NaN</td>\n",
       "      <td>15</td>\n",
       "      <td>8</td>\n",
       "    </tr>\n",
       "  </tbody>\n",
       "</table>\n",
       "<p>5 rows × 61 columns</p>\n",
       "</div>"
      ],
      "text/plain": [
       "   Respondent                                         MainBranch Hobbyist  \\\n",
       "0           1                     I am a developer by profession      Yes   \n",
       "1           2                     I am a developer by profession       No   \n",
       "2           3                        I code primarily as a hobby      Yes   \n",
       "3           4                     I am a developer by profession      Yes   \n",
       "4           5  I used to be a developer by profession, but no...      Yes   \n",
       "\n",
       "    Age Age1stCode CompFreq  CompTotal  ConvertedComp             Country  \\\n",
       "0   NaN         13  Monthly        NaN            NaN             Germany   \n",
       "1   NaN         19      NaN        NaN            NaN      United Kingdom   \n",
       "2   NaN         15      NaN        NaN            NaN  Russian Federation   \n",
       "3  25.0         18      NaN        NaN            NaN             Albania   \n",
       "4  31.0         16      NaN        NaN            NaN       United States   \n",
       "\n",
       "     CurrencyDesc  ...                  SurveyEase           SurveyLength  \\\n",
       "0   European Euro  ...  Neither easy nor difficult  Appropriate in length   \n",
       "1  Pound sterling  ...                         NaN                    NaN   \n",
       "2             NaN  ...  Neither easy nor difficult  Appropriate in length   \n",
       "3    Albanian lek  ...                         NaN                    NaN   \n",
       "4             NaN  ...                        Easy              Too short   \n",
       "\n",
       "  Trans                                     UndergradMajor  \\\n",
       "0    No  Computer science, computer engineering, or sof...   \n",
       "1   NaN  Computer science, computer engineering, or sof...   \n",
       "2   NaN                                                NaN   \n",
       "3    No  Computer science, computer engineering, or sof...   \n",
       "4    No  Computer science, computer engineering, or sof...   \n",
       "\n",
       "  WebframeDesireNextYear    WebframeWorkedWith  \\\n",
       "0           ASP.NET Core  ASP.NET;ASP.NET Core   \n",
       "1                    NaN                   NaN   \n",
       "2                    NaN                   NaN   \n",
       "3                    NaN                   NaN   \n",
       "4   Django;Ruby on Rails         Ruby on Rails   \n",
       "\n",
       "                              WelcomeChange WorkWeekHrs YearsCode YearsCodePro  \n",
       "0   Just as welcome now as I felt last year        50.0        36           27  \n",
       "1  Somewhat more welcome now than last year         NaN         7            4  \n",
       "2  Somewhat more welcome now than last year         NaN         4          NaN  \n",
       "3  Somewhat less welcome now than last year        40.0         7            4  \n",
       "4   Just as welcome now as I felt last year         NaN        15            8  \n",
       "\n",
       "[5 rows x 61 columns]"
      ]
     },
     "execution_count": 4,
     "metadata": {},
     "output_type": "execute_result"
    }
   ],
   "source": [
    "df_raw.head()"
   ]
  },
  {
   "cell_type": "code",
   "execution_count": 5,
   "metadata": {},
   "outputs": [
    {
     "data": {
      "text/html": [
       "<div>\n",
       "<style scoped>\n",
       "    .dataframe tbody tr th:only-of-type {\n",
       "        vertical-align: middle;\n",
       "    }\n",
       "\n",
       "    .dataframe tbody tr th {\n",
       "        vertical-align: top;\n",
       "    }\n",
       "\n",
       "    .dataframe thead th {\n",
       "        text-align: right;\n",
       "    }\n",
       "</style>\n",
       "<table border=\"1\" class=\"dataframe\">\n",
       "  <thead>\n",
       "    <tr style=\"text-align: right;\">\n",
       "      <th></th>\n",
       "      <th>Respondent</th>\n",
       "      <th>Age</th>\n",
       "      <th>CompTotal</th>\n",
       "      <th>ConvertedComp</th>\n",
       "      <th>WorkWeekHrs</th>\n",
       "    </tr>\n",
       "  </thead>\n",
       "  <tbody>\n",
       "    <tr>\n",
       "      <th>count</th>\n",
       "      <td>64461.000000</td>\n",
       "      <td>45446.000000</td>\n",
       "      <td>3.482600e+04</td>\n",
       "      <td>3.475600e+04</td>\n",
       "      <td>41151.000000</td>\n",
       "    </tr>\n",
       "    <tr>\n",
       "      <th>mean</th>\n",
       "      <td>32554.079738</td>\n",
       "      <td>30.834111</td>\n",
       "      <td>3.190464e+242</td>\n",
       "      <td>1.037561e+05</td>\n",
       "      <td>40.782174</td>\n",
       "    </tr>\n",
       "    <tr>\n",
       "      <th>std</th>\n",
       "      <td>18967.442360</td>\n",
       "      <td>9.585392</td>\n",
       "      <td>inf</td>\n",
       "      <td>2.268853e+05</td>\n",
       "      <td>17.816383</td>\n",
       "    </tr>\n",
       "    <tr>\n",
       "      <th>min</th>\n",
       "      <td>1.000000</td>\n",
       "      <td>1.000000</td>\n",
       "      <td>0.000000e+00</td>\n",
       "      <td>0.000000e+00</td>\n",
       "      <td>1.000000</td>\n",
       "    </tr>\n",
       "    <tr>\n",
       "      <th>25%</th>\n",
       "      <td>16116.000000</td>\n",
       "      <td>24.000000</td>\n",
       "      <td>2.000000e+04</td>\n",
       "      <td>2.464800e+04</td>\n",
       "      <td>40.000000</td>\n",
       "    </tr>\n",
       "    <tr>\n",
       "      <th>50%</th>\n",
       "      <td>32231.000000</td>\n",
       "      <td>29.000000</td>\n",
       "      <td>6.300000e+04</td>\n",
       "      <td>5.404900e+04</td>\n",
       "      <td>40.000000</td>\n",
       "    </tr>\n",
       "    <tr>\n",
       "      <th>75%</th>\n",
       "      <td>49142.000000</td>\n",
       "      <td>35.000000</td>\n",
       "      <td>1.250000e+05</td>\n",
       "      <td>9.500000e+04</td>\n",
       "      <td>44.000000</td>\n",
       "    </tr>\n",
       "    <tr>\n",
       "      <th>max</th>\n",
       "      <td>65639.000000</td>\n",
       "      <td>279.000000</td>\n",
       "      <td>1.111111e+247</td>\n",
       "      <td>2.000000e+06</td>\n",
       "      <td>475.000000</td>\n",
       "    </tr>\n",
       "  </tbody>\n",
       "</table>\n",
       "</div>"
      ],
      "text/plain": [
       "         Respondent           Age      CompTotal  ConvertedComp   WorkWeekHrs\n",
       "count  64461.000000  45446.000000   3.482600e+04   3.475600e+04  41151.000000\n",
       "mean   32554.079738     30.834111  3.190464e+242   1.037561e+05     40.782174\n",
       "std    18967.442360      9.585392            inf   2.268853e+05     17.816383\n",
       "min        1.000000      1.000000   0.000000e+00   0.000000e+00      1.000000\n",
       "25%    16116.000000     24.000000   2.000000e+04   2.464800e+04     40.000000\n",
       "50%    32231.000000     29.000000   6.300000e+04   5.404900e+04     40.000000\n",
       "75%    49142.000000     35.000000   1.250000e+05   9.500000e+04     44.000000\n",
       "max    65639.000000    279.000000  1.111111e+247   2.000000e+06    475.000000"
      ]
     },
     "execution_count": 5,
     "metadata": {},
     "output_type": "execute_result"
    }
   ],
   "source": [
    "df_raw.describe()"
   ]
  },
  {
   "cell_type": "code",
   "execution_count": 6,
   "metadata": {
    "scrolled": true
   },
   "outputs": [
    {
     "data": {
      "text/plain": [
       "Respondent                    0\n",
       "Hobbyist                     45\n",
       "MainBranch                  299\n",
       "Country                     389\n",
       "Employment                  607\n",
       "                          ...  \n",
       "WebframeDesireNextYear    24437\n",
       "PurchaseWhat              25097\n",
       "NEWPurchaseResearch       27140\n",
       "CompTotal                 29635\n",
       "ConvertedComp             29705\n",
       "Length: 61, dtype: int64"
      ]
     },
     "execution_count": 6,
     "metadata": {},
     "output_type": "execute_result"
    }
   ],
   "source": [
    "df_raw.isna().sum().sort_values()"
   ]
  },
  {
   "cell_type": "markdown",
   "metadata": {},
   "source": [
    "## Prepare Data\n",
    "These fields in the survey are being used\n",
    "\n",
    "1. ConvertedComp - Salary in USD\n",
    "2. Country - Country of the responder\n",
    "3. EdLevel - Education Level\n",
    "4. Employment - Employment Status\n",
    "5. Gender - Gender of the responder\n",
    "6. JobSat - Job Satisfaction\n",
    "7. NEWEdImpt - Eduction Importance Perceived\n",
    "8. NEWLearn - Innovation: Frequency of learn new language or framework\n",
    "9. NEWOvertime - Work Overtime\n",
    "10. OrgSize - Organization Size\n"
   ]
  },
  {
   "cell_type": "code",
   "execution_count": 8,
   "metadata": {},
   "outputs": [
    {
     "data": {
      "text/plain": [
       "(47487, 61)"
      ]
     },
     "execution_count": 8,
     "metadata": {},
     "output_type": "execute_result"
    }
   ],
   "source": [
    "# Analyse developer who has job\n",
    "df_pre = df_raw[df_raw['Employment'].isin(\n",
    "    [\"Employed full-time\", \"Independent contractor\", \"freelancer, or self-employed\", \"Employed part-time\"])]\n",
    "\n",
    "column_list = ['NEWLearn','Age', 'Country', 'EdLevel', 'Gender', 'ConvertedComp', 'JobSat', 'NEWEdImpt', 'NEWOvertime',\n",
    "               'OrgSize']\n",
    "\n",
    "column_name = ({'NEWLearn': 'Learn New Frequency',\n",
    "                'Age': 'Age of Developer',\n",
    "                'Country': 'Country of Developer ',\n",
    "                'EdLevel': 'Education Level',\n",
    "                'Gender': 'Developer Gender',\n",
    "                'ConvertedComp': 'Salary',\n",
    "                'JobSat': 'Job Satisfaction',\n",
    "                'NEWEdImpt': 'Education Importance',\n",
    "                'NEWOvertime': 'Overtime Frequency',\n",
    "                'OrgSize': 'Organization Size'\n",
    "                })\n",
    "\n",
    "df_pre.shape"
   ]
  },
  {
   "cell_type": "code",
   "execution_count": 9,
   "metadata": {},
   "outputs": [
    {
     "data": {
      "text/plain": [
       "NEWLearn\n",
       "Every few months        14283\n",
       "Once a decade             914\n",
       "Once a year             15985\n",
       "Once every few years    10618\n",
       "Name: NEWLearn, dtype: int64"
      ]
     },
     "execution_count": 9,
     "metadata": {},
     "output_type": "execute_result"
    }
   ],
   "source": [
    "df_pre.groupby(['NEWLearn'])['NEWLearn'].count()"
   ]
  },
  {
   "cell_type": "code",
   "execution_count": 10,
   "metadata": {},
   "outputs": [
    {
     "data": {
      "text/plain": [
       "NEWLearn\n",
       "Every few months        29.443402\n",
       "Once a decade           38.858939\n",
       "Once a year             31.213933\n",
       "Once every few years    34.812477\n",
       "Name: Age, dtype: float64"
      ]
     },
     "execution_count": 10,
     "metadata": {},
     "output_type": "execute_result"
    }
   ],
   "source": [
    "df_pre.groupby(['NEWLearn'])['Age'].mean()"
   ]
  },
  {
   "cell_type": "code",
   "execution_count": 59,
   "metadata": {},
   "outputs": [
    {
     "data": {
      "text/plain": [
       "Country\n",
       "Belize               20.000000\n",
       "Brunei Darussalam    22.000000\n",
       "Niger                24.000000\n",
       "Bhutan               24.000000\n",
       "Afghanistan          24.076923\n",
       "                       ...    \n",
       "Mali                       NaN\n",
       "Mauritania                 NaN\n",
       "North Korea                NaN\n",
       "Tajikistan                 NaN\n",
       "Timor-Leste                NaN\n",
       "Name: Age, Length: 176, dtype: float64"
      ]
     },
     "execution_count": 59,
     "metadata": {},
     "output_type": "execute_result"
    }
   ],
   "source": [
    "df_pre.groupby(['Country'])['Age'].mean().sort_values()"
   ]
  },
  {
   "cell_type": "code",
   "execution_count": 11,
   "metadata": {},
   "outputs": [
    {
     "data": {
      "text/plain": [
       "Country\n",
       "Afghanistan                              43\n",
       "Albania                                  38\n",
       "Algeria                                  42\n",
       "Andorra                                   8\n",
       "Angola                                    4\n",
       "                                       ... \n",
       "Venezuela, Bolivarian Republic of...     39\n",
       "Viet Nam                                218\n",
       "Yemen                                     5\n",
       "Zambia                                   11\n",
       "Zimbabwe                                 16\n",
       "Name: Country, Length: 176, dtype: int64"
      ]
     },
     "execution_count": 11,
     "metadata": {},
     "output_type": "execute_result"
    }
   ],
   "source": [
    "df_pre.groupby(['Country'])['Country'].count()"
   ]
  },
  {
   "cell_type": "code",
   "execution_count": 12,
   "metadata": {
    "scrolled": true
   },
   "outputs": [
    {
     "data": {
      "image/png": "[encoded data removed]",
      "text/plain": [
       "<Figure size 432x288 with 1 Axes>"
      ]
     },
     "metadata": {
      "needs_background": "light"
     },
     "output_type": "display_data"
    }
   ],
   "source": [
    "sns.countplot(data=df_pre, y='NEWLearn', color=sns.color_palette()[0]);"
   ]
  },
  {
   "cell_type": "code",
   "execution_count": 14,
   "metadata": {},
   "outputs": [],
   "source": [
    "# Data conversion\n",
    "# NEWLearn - Innovation Passionate: Frequency of learn new language or framework\n",
    "df_pre = df_pre.replace({'NEWLearn': {'Every few months': 4,\n",
    "                                      'Once a year': 3,\n",
    "                                      'Once every few years': 2,\n",
    "                                      'Once a decade': 1}})\n",
    "\n",
    "# JobSat - Job Satisfaction\n",
    "df_pre = df_pre.replace({'JobSat': {'Very dissatisfied': 1,\n",
    "                                    'Slightly dissatisfied': 2,\n",
    "                                    'Neither satisfied nor dissatisfied': 3,\n",
    "                                    'Slightly satisfied': 4,\n",
    "                                    'Very satisfied': 5}})\n",
    "\n",
    "# EdLevel - Education Level\n",
    "df_pre = df_pre.replace({'EdLevel': {'I never completed any formal education': 1,\n",
    "                                     'Primary/elementary school': 2,\n",
    "                                     'Secondary school (e.g. American high school, German Realschule or Gymnasium, etc.)': 3,\n",
    "                                     'Some college/university study without earning a degree': 4,\n",
    "                                     'Associate degree (A.A., A.S., etc.)': 5,\n",
    "                                     'Bachelor’s degree (B.A., B.S., B.Eng., etc.)': 6,\n",
    "                                     'Master’s degree (M.A., M.S., M.Eng., MBA, etc.)': 7,\n",
    "                                     'Professional degree (JD, MD, etc.)': 8,\n",
    "                                     'Other doctoral degree (Ph.D., Ed.D., etc.)': 9}})\n",
    "\n",
    "# Gender,only study Man and Woman\n",
    "df_pre = df_pre.replace({'Gender': {'Non-binary, genderqueer, or gender non-conforming': np.nan,\n",
    "                                    'Man;Non-binary, genderqueer, or gender non-conforming': np.nan,\n",
    "                                    'Woman;Non-binary, genderqueer, or gender non-conforming': np.nan,\n",
    "                                    'Woman;Man': np.nan,\n",
    "                                    'Woman;Man;Non-binary, genderqueer, or gender non-conforming': np.nan}})\n",
    "\n",
    "# NEWEdImpt - Eduction Importance Perceived\n",
    "df_pre = df_pre.replace({'NEWEdImpt': {'Not at all important/not necessary': 1,\n",
    "                                       'Somewhat important': 2,\n",
    "                                       'Fairly important': 3,\n",
    "                                       'Very important': 4,\n",
    "                                       'Critically important': 5}})\n",
    "\n",
    "# NEWOvertime - Work Overtime\n",
    "df_pre = df_pre.replace({'NEWOvertime': {'Never': 0,\n",
    "                                         'Rarely: 1-2 days per year or less': 1,\n",
    "                                         'Occasionally: 1-2 days per quarter but less than monthly': 2,\n",
    "                                         'Sometimes: 1-2 days per month but less than weekly': 3,\n",
    "                                         'Often: 1-2 days per week or more': 4}})\n",
    "\n",
    "# OrgSize - Organization Size\n",
    "df_pre = df_pre.replace({'OrgSize': {'Just me - I am a freelancer, sole proprietor, etc.': 0,\n",
    "                                     '2 to 9 employees': 1,\n",
    "                                     '10 to 19 employees': 2,\n",
    "                                     '20 to 99 employees': 3,\n",
    "                                     '100 to 499 employees': 4,\n",
    "                                     '500 to 999 employees': 5,\n",
    "                                     '1,000 to 4,999 employees': 6,\n",
    "                                     '5,000 to 9,999 employees': 7,\n",
    "                                     '10,000 or more employees': 8,\n",
    "                                     \"I don't know\": np.nan}})\n"
   ]
  },
  {
   "cell_type": "code",
   "execution_count": 15,
   "metadata": {},
   "outputs": [],
   "source": [
    "def plotCompare(subset):\n",
    "    '''\n",
    "    INPUT\n",
    "    subset - pandas dataframe\n",
    "   \n",
    "    This function plot various diagrams for Learn New Language and Framework\n",
    "   '''\n",
    "    df_pc = df_pre.dropna(axis=0, subset=[subset])\n",
    "\n",
    "    if subset == 'Country':\n",
    "        df_pc = df_pre.dropna(axis=0, subset=['Country'])\n",
    "        count = df_pc['Country'].value_counts()\n",
    "        count = count[count >= 200] # Select countries who have respondent more than 200\n",
    "        keep = list(count.index)\n",
    "        df_pc = df_pc[df_pc['Country'].isin(keep)]\n",
    "\n",
    "    df_pc_plt = df_pc.groupby([subset])['NEWLearn'].mean().sort_values(ascending=False)\n",
    "\n",
    "    if subset == 'Country':\n",
    "        print(df_pc_plt.head)\n",
    "        plt.figure(figsize=[10, 25])\n",
    "        fig = sns.barplot(y=df_pc_plt.index, x=df_pc_plt, color=sns.color_palette()[0])\n",
    "        fig.set(xlabel=column_name['NEWLearn'], ylabel=column_name[subset])\n",
    "\n",
    "    elif subset in ('ConvertedComp', 'JobSat','Age'):\n",
    "        #     elif subset in ('ConvertedComp'):\n",
    "\n",
    "        df_pc_plt = df_pc.groupby(['NEWLearn'])[subset].mean().sort_values(ascending=False)\n",
    "        print(df_pc_plt.head)\n",
    "        plt.figure(figsize=[7, 4])\n",
    "        fig = sns.barplot(y=df_pc_plt, x=df_pc_plt.index, color=sns.color_palette()[0])\n",
    "        fig.set(xlabel=column_name['NEWLearn'], ylabel=column_name[subset])\n",
    "\n",
    "    elif subset == 'Gender':\n",
    "        print(df_pc_plt.head)\n",
    "        plt.figure(figsize=[7, 2])\n",
    "        fig = sns.barplot(y=df_pc_plt.index, x=df_pc_plt, color=sns.color_palette()[0])\n",
    "        fig.set(xlabel=column_name['NEWLearn'], ylabel=column_name[subset])\n",
    "\n",
    "    else:\n",
    "        plt.figure(figsize=[7, 4])\n",
    "        print(df_pc_plt.head)\n",
    "        fig = sns.barplot(y=df_pc_plt, x=df_pc_plt.index, color=sns.color_palette()[0])\n",
    "        fig.set(xlabel=column_name[subset], ylabel=column_name['NEWLearn'])\n",
    "\n",
    "    plt.title(\"Learn New Frequency vs. %s\" % column_name[subset]);"
   ]
  },
  {
   "cell_type": "code",
   "execution_count": 16,
   "metadata": {},
   "outputs": [
    {
     "name": "stdout",
     "output_type": "stream",
     "text": [
      "<bound method NDFrame.head of NEWLearn\n",
      "1.0    38.858939\n",
      "2.0    34.812477\n",
      "3.0    31.213933\n",
      "4.0    29.443402\n",
      "Name: Age, dtype: float64>\n"
     ]
    },
    {
     "data": {
      "image/png": "[encoded data removed]",
      "text/plain": [
       "<Figure size 504x288 with 1 Axes>"
      ]
     },
     "metadata": {
      "needs_background": "light"
     },
     "output_type": "display_data"
    }
   ],
   "source": [
    "plotCompare('Age')"
   ]
  },
  {
   "cell_type": "code",
   "execution_count": 17,
   "metadata": {},
   "outputs": [
    {
     "data": {
      "text/plain": [
       "<matplotlib.axes._subplots.AxesSubplot at 0x23bdfba77c8>"
      ]
     },
     "execution_count": 17,
     "metadata": {},
     "output_type": "execute_result"
    },
    {
     "data": {
      "image/png": "[encoded data removed]",
      "text/plain": [
       "<Figure size 432x288 with 1 Axes>"
      ]
     },
     "metadata": {
      "needs_background": "light"
     },
     "output_type": "display_data"
    }
   ],
   "source": [
    "sns.distplot(df_pre['Age'])"
   ]
  },
  {
   "cell_type": "code",
   "execution_count": 18,
   "metadata": {},
   "outputs": [
    {
     "name": "stdout",
     "output_type": "stream",
     "text": [
      "<bound method NDFrame.head of Gender\n",
      "Man      3.031614\n",
      "Woman    3.000358\n",
      "Name: NEWLearn, dtype: float64>\n"
     ]
    },
    {
     "data": {
      "image/png": "[encoded data removed]",
      "text/plain": [
       "<Figure size 504x144 with 1 Axes>"
      ]
     },
     "metadata": {
      "needs_background": "light"
     },
     "output_type": "display_data"
    }
   ],
   "source": [
    "plotCompare('Gender')"
   ]
  },
  {
   "cell_type": "code",
   "execution_count": 19,
   "metadata": {},
   "outputs": [
    {
     "name": "stdout",
     "output_type": "stream",
     "text": [
      "<bound method NDFrame.head of EdLevel\n",
      "2.0    3.217647\n",
      "1.0    3.126638\n",
      "3.0    3.126374\n",
      "4.0    3.109895\n",
      "6.0    3.072821\n",
      "5.0    3.040689\n",
      "8.0    2.996409\n",
      "7.0    2.958102\n",
      "9.0    2.677612\n",
      "Name: NEWLearn, dtype: float64>\n"
     ]
    },
    {
     "data": {
      "image/png": "[encoded data removed]",
      "text/plain": [
       "<Figure size 504x288 with 1 Axes>"
      ]
     },
     "metadata": {
      "needs_background": "light"
     },
     "output_type": "display_data"
    }
   ],
   "source": [
    "plotCompare('EdLevel')"
   ]
  },
  {
   "cell_type": "code",
   "execution_count": 39,
   "metadata": {
    "scrolled": true
   },
   "outputs": [
    {
     "name": "stdout",
     "output_type": "stream",
     "text": [
      "<bound method NDFrame.head of NEWLearn\n",
      "2.0    115450.933468\n",
      "3.0    110006.234167\n",
      "1.0    109799.512438\n",
      "4.0     91463.250831\n",
      "Name: ConvertedComp, dtype: float64>\n"
     ]
    },
    {
     "data": {
      "image/png": "[encoded data removed]",
      "text/plain": [
       "<Figure size 504x288 with 1 Axes>"
      ]
     },
     "metadata": {
      "needs_background": "light"
     },
     "output_type": "display_data"
    }
   ],
   "source": [
    "plotCompare('ConvertedComp')"
   ]
  },
  {
   "cell_type": "code",
   "execution_count": 20,
   "metadata": {},
   "outputs": [
    {
     "name": "stdout",
     "output_type": "stream",
     "text": [
      "<bound method NDFrame.head of Country\n",
      "Pakistan              3.460241\n",
      "Sri Lanka             3.435583\n",
      "Bangladesh            3.404682\n",
      "Iran                  3.320261\n",
      "India                 3.315312\n",
      "Indonesia             3.280374\n",
      "Nigeria               3.279330\n",
      "Argentina             3.264706\n",
      "Philippines           3.258065\n",
      "Viet Nam              3.257669\n",
      "China                 3.245033\n",
      "Brazil                3.221440\n",
      "Colombia              3.214286\n",
      "Mexico                3.165698\n",
      "Israel                3.120729\n",
      "Japan                 3.109589\n",
      "South Africa          3.097179\n",
      "Poland                3.047809\n",
      "Portugal              3.022059\n",
      "Turkey                3.016667\n",
      "Germany               2.992350\n",
      "Austria               2.991758\n",
      "Canada                2.984512\n",
      "Australia             2.982599\n",
      "Ireland               2.972561\n",
      "Spain                 2.966864\n",
      "Switzerland           2.962389\n",
      "Bulgaria              2.955947\n",
      "United States         2.951114\n",
      "Greece                2.942149\n",
      "Finland               2.939163\n",
      "France                2.932647\n",
      "New Zealand           2.929752\n",
      "Romania               2.911980\n",
      "United Kingdom        2.911849\n",
      "Denmark               2.908425\n",
      "Hungary               2.898734\n",
      "Norway                2.895105\n",
      "Italy                 2.893588\n",
      "Ukraine               2.889535\n",
      "Russian Federation    2.887097\n",
      "Belgium               2.883721\n",
      "Czech Republic        2.881356\n",
      "Netherlands           2.867535\n",
      "Sweden                2.858044\n",
      "Name: NEWLearn, dtype: float64>\n"
     ]
    },
    {
     "data": {
      "image/png": "[encoded data removed]",
      "text/plain": [
       "<Figure size 720x1800 with 1 Axes>"
      ]
     },
     "metadata": {
      "needs_background": "light"
     },
     "output_type": "display_data"
    }
   ],
   "source": [
    "plotCompare('Country')"
   ]
  },
  {
   "cell_type": "code",
   "execution_count": 21,
   "metadata": {},
   "outputs": [
    {
     "name": "stdout",
     "output_type": "stream",
     "text": [
      "<bound method NDFrame.head of NEWOvertime\n",
      "4.0    3.097663\n",
      "3.0    3.042012\n",
      "0.0    3.027238\n",
      "2.0    2.999637\n",
      "1.0    2.970511\n",
      "Name: NEWLearn, dtype: float64>\n"
     ]
    },
    {
     "data": {
      "image/png": "[encoded data removed]",
      "text/plain": [
       "<Figure size 504x288 with 1 Axes>"
      ]
     },
     "metadata": {
      "needs_background": "light"
     },
     "output_type": "display_data"
    }
   ],
   "source": [
    "plotCompare('NEWOvertime')"
   ]
  },
  {
   "cell_type": "code",
   "execution_count": 22,
   "metadata": {},
   "outputs": [
    {
     "name": "stdout",
     "output_type": "stream",
     "text": [
      "<bound method NDFrame.head of OrgSize\n",
      "0.0    3.201439\n",
      "1.0    3.122272\n",
      "2.0    3.118085\n",
      "3.0    3.058264\n",
      "8.0    3.023703\n",
      "4.0    3.016192\n",
      "5.0    2.994588\n",
      "6.0    2.968042\n",
      "7.0    2.949037\n",
      "Name: NEWLearn, dtype: float64>\n"
     ]
    },
    {
     "data": {
      "image/png": "[encoded data removed]",
      "text/plain": [
       "<Figure size 504x288 with 1 Axes>"
      ]
     },
     "metadata": {
      "needs_background": "light"
     },
     "output_type": "display_data"
    }
   ],
   "source": [
    "plotCompare('OrgSize')"
   ]
  },
  {
   "cell_type": "code",
   "execution_count": 74,
   "metadata": {},
   "outputs": [
    {
     "data": {
      "text/plain": [
       "<matplotlib.axes._subplots.AxesSubplot at 0x2bd88eaf2c8>"
      ]
     },
     "execution_count": 74,
     "metadata": {},
     "output_type": "execute_result"
    },
    {
     "data": {
      "image/png": "[encoded data removed]",
      "text/plain": [
       "<Figure size 432x288 with 2 Axes>"
      ]
     },
     "metadata": {
      "needs_background": "light"
     },
     "output_type": "display_data"
    }
   ],
   "source": [
    "df_corr = df_pre.groupby(['NEWLearn'])[['NEWLearn','Age','ConvertedComp','EdLevel', 'JobSat','OrgSize','NEWEdImpt','NEWOvertime']].mean()\n",
    "sns.heatmap(df_corr.corr(),annot=True,linecolor=\"grey\",cmap=\"RdBu_r\")"
   ]
  },
  {
   "cell_type": "markdown",
   "metadata": {},
   "source": [
    "## Model data and evaluate results\n"
   ]
  },
  {
   "cell_type": "code",
   "execution_count": 38,
   "metadata": {},
   "outputs": [
    {
     "data": {
      "text/plain": [
       "(64461, 61)"
      ]
     },
     "execution_count": 38,
     "metadata": {},
     "output_type": "execute_result"
    }
   ],
   "source": [
    "df_raw.shape"
   ]
  },
  {
   "cell_type": "code",
   "execution_count": 39,
   "metadata": {},
   "outputs": [],
   "source": [
    "def sel_data(df):\n",
    "    '''\n",
    "    INPUT\n",
    "    df - pandas dataframe\n",
    "    \n",
    "    OUTPUT\n",
    "    df - pandas dataframe, return selected data\n",
    "   \n",
    "    This function select part of the developers, classify into two groups and numerize to 1 and 0, 1 is for frequent learner or \n",
    "    innovation preference  \n",
    "   '''\n",
    "    # drop Respondent number, Compansation Frequency, Compansation Total, and keep Converted Compansation for model\n",
    "    df = df.drop(['Respondent', 'CompFreq', 'CompTotal'], axis=1)\n",
    "    \n",
    "    # select developers who is at work\n",
    "    df = df.loc[df['Employment'].isin(\n",
    "        [\"Employed full-time\", \"Independent contractor\", \"freelancer, or self-employed\", \"Employed part-time\"])]\n",
    "    \n",
    "    # drop respondent with coding experience 'Less than 1 year' and 'More than 50 years',YearsCode: Years have been coding including eduction,\n",
    "    # YearsCodePro: Years have been coding excluding eduction\n",
    "    df = df[~df.YearsCode.isin(['More than 50 years', 'Less than 1 year'])]\n",
    "    df = df[~df.YearsCodePro.isin(['More than 50 years', 'Less than 1 year'])]\n",
    "\n",
    "    # drop null value rows and select part of the respondent to reduce outlier\n",
    "    df = df.dropna(subset=(['NEWLearn', 'ConvertedComp', 'YearsCode', 'YearsCodePro']), axis=0)\n",
    "    df = df[(df['Age'] >= 18) & (df['Age'] <= 65)]\n",
    "    df = df[(df['ConvertedComp'] >= 1200) & (df['ConvertedComp'] < 1000000)]\n",
    "    df = df[(df['WorkWeekHrs'] >= 20) & (df['WorkWeekHrs'] <= 72)]\n",
    "    \n",
    "    # classify the developer, who Learn language or framework Every few months as innovation preference       \n",
    "    df = df.replace({'NEWLearn': {'Every few months': 1,\n",
    "                                  'Once a year': 0,\n",
    "                                  'Once every few years': 0,\n",
    "                                  'Once a decade': 0, }})   \n",
    "    \n",
    "    # numerize experience of years of coding\n",
    "    df['YearsCode'] = pd.to_numeric(df['YearsCode'])\n",
    "    df['YearsCodePro'] = pd.to_numeric(df['YearsCodePro'])\n",
    "    df = df[(df['YearsCode'] >= 2) & (df['YearsCodePro'] >= 2)]\n",
    "\n",
    "    return df"
   ]
  },
  {
   "cell_type": "code",
   "execution_count": 40,
   "metadata": {},
   "outputs": [],
   "source": [
    "# select data for predit model \n",
    "df_cl = sel_data(df_raw)"
   ]
  },
  {
   "cell_type": "code",
   "execution_count": 41,
   "metadata": {},
   "outputs": [
    {
     "data": {
      "text/plain": [
       "(22404, 58)"
      ]
     },
     "execution_count": 41,
     "metadata": {},
     "output_type": "execute_result"
    }
   ],
   "source": [
    "df_cl.shape"
   ]
  },
  {
   "cell_type": "code",
   "execution_count": 26,
   "metadata": {},
   "outputs": [
    {
     "data": {
      "text/plain": [
       "NEWLearn\n",
       "0    15770\n",
       "1     6634\n",
       "Name: NEWLearn, dtype: int64"
      ]
     },
     "execution_count": 26,
     "metadata": {},
     "output_type": "execute_result"
    }
   ],
   "source": [
    "df_cl.groupby(['NEWLearn'])['NEWLearn'].count()"
   ]
  },
  {
   "cell_type": "code",
   "execution_count": 27,
   "metadata": {},
   "outputs": [
    {
     "data": {
      "text/plain": [
       "Country\n",
       "Afghanistan                               5\n",
       "Albania                                  17\n",
       "Algeria                                   9\n",
       "Angola                                    1\n",
       "Argentina                               127\n",
       "                                       ... \n",
       "Venezuela, Bolivarian Republic of...     16\n",
       "Viet Nam                                 49\n",
       "Yemen                                     1\n",
       "Zambia                                    1\n",
       "Zimbabwe                                  3\n",
       "Name: Country, Length: 144, dtype: int64"
      ]
     },
     "execution_count": 27,
     "metadata": {},
     "output_type": "execute_result"
    }
   ],
   "source": [
    "df_cl.groupby(['Country'])['Country'].count()"
   ]
  },
  {
   "cell_type": "code",
   "execution_count": 28,
   "metadata": {},
   "outputs": [
    {
     "data": {
      "image/png": "[encoded data removed]",
      "text/plain": [
       "<Figure size 432x288 with 1 Axes>"
      ]
     },
     "metadata": {
      "needs_background": "light"
     },
     "output_type": "display_data"
    }
   ],
   "source": [
    "sns.countplot(data=df_cl, y='NEWLearn', color=sns.color_palette()[0]);"
   ]
  },
  {
   "cell_type": "code",
   "execution_count": 42,
   "metadata": {},
   "outputs": [],
   "source": [
    "def clean_data(df):\n",
    "    '''\n",
    "    INPUT\n",
    "    df - pandas dataframe\n",
    "\n",
    "    OUTPUT\n",
    "    X - A matrix holding all of the variables want to consider when predicting the response\n",
    "    y - the corresponding response vector\n",
    "\n",
    "    This function cleans df using the following steps to produce X and y:\n",
    "   '''\n",
    "  \n",
    "    y = df['NEWLearn']\n",
    "    X = df.drop(['NEWLearn'], axis=1)\n",
    "    \n",
    "    # Normalize numerical fields, and null value imputation\n",
    "    num_vars = df.select_dtypes(include=['int', 'float']).columns\n",
    "\n",
    "    for col in num_vars:\n",
    "        X[col] = X[col] / (X[col].max() - X[col].min())\n",
    "        X[col].fillna(X[col].mean(), inplace=True)\n",
    "\n",
    "    # Object fields one-hot encoding\n",
    "    cat_df = X.select_dtypes(include=['object']).copy()\n",
    "    cat_vars = cat_df.columns\n",
    "\n",
    "    for var in cat_vars:\n",
    "        X = pd.concat([X.drop(var, axis=1), pd.get_dummies(X[var], prefix=var, prefix_sep=\"_\")], axis=1)\n",
    "\n",
    "    return X, y\n"
   ]
  },
  {
   "cell_type": "code",
   "execution_count": 43,
   "metadata": {},
   "outputs": [],
   "source": [
    "# Prepare the data for classification model\n",
    "X, y = clean_data(df_cl)"
   ]
  },
  {
   "cell_type": "code",
   "execution_count": 44,
   "metadata": {},
   "outputs": [],
   "source": [
    "def find_optimal_mod(cl_model, X, y, cutoffs, test_size=.30, random_state=42, plot=True):\n",
    "    '''\n",
    "    INPUT\n",
    "    cl_model - classification model to be used\n",
    "    X - pandas dataframe, X matrix\n",
    "    y - pandas dataframe, response variable\n",
    "    cutoffs - list of ints, cutoff for number of non-zero values in dummy categorical vars\n",
    "    test_size - float between 0 and 1, default 0.3, determines the proportion of data as test data\n",
    "    random_state - int, controls random state for train_test_split\n",
    "    plot - boolean, True to plot result\n",
    "\n",
    "    OUTPUT\n",
    "    scores_test - list of floats of accuracy scores on the test data\n",
    "    scores_train - list of floats of accuracy scores on the train data\n",
    "    cl_model - model object from sklearn\n",
    "    X_train, X_test, y_train, y_test - output from sklearn train test split used for optimal model\n",
    "    '''\n",
    "    scores_test, scores_train, num_feats, results = [], [], [], dict()\n",
    "\n",
    "    for cutoff in cutoffs:\n",
    "        # reduce X matrix, cutoff is the minimum missing values in the column, the higher the cutoff, the less feastures in the dataset,\n",
    "        reduce_X = X.iloc[:, np.where((X.sum() > cutoff) == True)[0]]\n",
    "        num_feats.append(reduce_X.shape[1])\n",
    "\n",
    "        # split the data into train and test\n",
    "        X_train, X_test, y_train, y_test = train_test_split(reduce_X, y, test_size=test_size, random_state=random_state)\n",
    "\n",
    "        # fit the model and obtain pred response\n",
    "        model = cl_model\n",
    "        model.fit(X_train, y_train)\n",
    "        y_train_preds = model.predict(X_train)\n",
    "        y_test_preds = model.predict(X_test)\n",
    "\n",
    "        # append the ccuracy_score from the test set\n",
    "        scores_train.append(accuracy_score(y_train, y_train_preds))\n",
    "        scores_test.append(accuracy_score(y_test, y_test_preds))\n",
    "        results[str(cutoff)] = accuracy_score(y_test, y_test_preds)\n",
    "\n",
    "    if plot:\n",
    "        plt.plot(num_feats, scores_test, label=\"Test\", alpha=.5)\n",
    "        plt.plot(num_feats, scores_train, label=\"Train\", alpha=.5)\n",
    "        plt.xlabel('Number of Features')\n",
    "        plt.ylabel('Accuracy')\n",
    "        plt.title('Accuracy by Number of Features')\n",
    "        plt.legend(loc=1)\n",
    "        plt.show()\n",
    "\n",
    "    best_cutoff = max(results, key=results.get)\n",
    "\n",
    "    # reduce X matrix\n",
    "    reduce_X = X.iloc[:, np.where((X.sum() > int(best_cutoff)) == True)[0]]\n",
    "    num_feats.append(reduce_X.shape[1])\n",
    "\n",
    "    # split the data into train and test\n",
    "    X_train, X_test, y_train, y_test = train_test_split(reduce_X, y, test_size=test_size, random_state=random_state)\n",
    "\n",
    "    model.fit(X_train, y_train)\n",
    "#     joblib.dump(model, 'save/clf_model.pkl') # Save the model\n",
    "\n",
    "    return scores_test, scores_train, model, X_train, X_test, y_train, y_test\n"
   ]
  },
  {
   "cell_type": "code",
   "execution_count": 45,
   "metadata": {},
   "outputs": [
    {
     "data": {
      "image/png": "[encoded data removed]",
      "text/plain": [
       "<Figure size 432x288 with 1 Axes>"
      ]
     },
     "metadata": {
      "needs_background": "light"
     },
     "output_type": "display_data"
    }
   ],
   "source": [
    "clf_model = LogisticRegression(max_iter=1000)\n",
    "\n",
    "# uncomment to pass cutoffs to select fields for best model\n",
    "cutoffs = [1500,1000,600,500,400,200,100]\n",
    "\n",
    "# best custoff\n",
    "# cutoffs = [500]\n",
    "\n",
    "# pass classification model,X and y to the model for model selection and testing\n",
    "scores_test, scores_train, model, X_train, X_test, y_train, y_test = find_optimal_mod(clf_model, X, y, cutoffs)\n"
   ]
  },
  {
   "cell_type": "code",
   "execution_count": 46,
   "metadata": {},
   "outputs": [
    {
     "name": "stdout",
     "output_type": "stream",
     "text": [
      "Features best model: 238 \n",
      "Train accuracy: 0.7425073332483102 \n",
      "Test accuracy: 0.7186849152038084 \n"
     ]
    }
   ],
   "source": [
    "# Accuracy scores\n",
    "print(\"Features best model: {} \".format(X_train.shape[1])) \n",
    "print(\"Train accuracy: {} \".format(scores_train[np.argmax(scores_train)]))\n",
    "print(\"Test accuracy: {} \".format(scores_test[np.argmax(scores_test)]))"
   ]
  },
  {
   "cell_type": "code",
   "execution_count": 47,
   "metadata": {
    "scrolled": true
   },
   "outputs": [
    {
     "data": {
      "text/html": [
       "<div>\n",
       "<style scoped>\n",
       "    .dataframe tbody tr th:only-of-type {\n",
       "        vertical-align: middle;\n",
       "    }\n",
       "\n",
       "    .dataframe tbody tr th {\n",
       "        vertical-align: top;\n",
       "    }\n",
       "\n",
       "    .dataframe thead th {\n",
       "        text-align: right;\n",
       "    }\n",
       "</style>\n",
       "<table border=\"1\" class=\"dataframe\">\n",
       "  <thead>\n",
       "    <tr style=\"text-align: right;\">\n",
       "      <th></th>\n",
       "      <th>Feature</th>\n",
       "      <th>Coeficient</th>\n",
       "    </tr>\n",
       "  </thead>\n",
       "  <tbody>\n",
       "    <tr>\n",
       "      <th>22</th>\n",
       "      <td>Country_Brazil</td>\n",
       "      <td>0.683357</td>\n",
       "    </tr>\n",
       "    <tr>\n",
       "      <th>215</th>\n",
       "      <td>SOVisitFreq_Multiple times per day</td>\n",
       "      <td>0.548005</td>\n",
       "    </tr>\n",
       "    <tr>\n",
       "      <th>108</th>\n",
       "      <td>NEWDevOpsImpt_Extremely important</td>\n",
       "      <td>0.498106</td>\n",
       "    </tr>\n",
       "    <tr>\n",
       "      <th>139</th>\n",
       "      <td>NEWOnboardGood_Yes</td>\n",
       "      <td>0.474300</td>\n",
       "    </tr>\n",
       "    <tr>\n",
       "      <th>138</th>\n",
       "      <td>NEWOnboardGood_Onboarding? What onboarding?</td>\n",
       "      <td>0.433722</td>\n",
       "    </tr>\n",
       "    <tr>\n",
       "      <th>144</th>\n",
       "      <td>NEWOvertime_Often: 1-2 days per week or more</td>\n",
       "      <td>0.418981</td>\n",
       "    </tr>\n",
       "    <tr>\n",
       "      <th>40</th>\n",
       "      <td>CurrencySymbol_CAD</td>\n",
       "      <td>0.414955</td>\n",
       "    </tr>\n",
       "    <tr>\n",
       "      <th>33</th>\n",
       "      <td>CurrencyDesc_Canadian dollar</td>\n",
       "      <td>0.414955</td>\n",
       "    </tr>\n",
       "    <tr>\n",
       "      <th>137</th>\n",
       "      <td>NEWOnboardGood_No</td>\n",
       "      <td>0.403266</td>\n",
       "    </tr>\n",
       "    <tr>\n",
       "      <th>214</th>\n",
       "      <td>SOVisitFreq_Daily or almost daily</td>\n",
       "      <td>0.349303</td>\n",
       "    </tr>\n",
       "    <tr>\n",
       "      <th>209</th>\n",
       "      <td>SOPartFreq_I have never participated in Q&amp;A on...</td>\n",
       "      <td>0.331884</td>\n",
       "    </tr>\n",
       "    <tr>\n",
       "      <th>2</th>\n",
       "      <td>WorkWeekHrs</td>\n",
       "      <td>0.327498</td>\n",
       "    </tr>\n",
       "    <tr>\n",
       "      <th>141</th>\n",
       "      <td>NEWOtherComms_Yes</td>\n",
       "      <td>0.326069</td>\n",
       "    </tr>\n",
       "    <tr>\n",
       "      <th>36</th>\n",
       "      <td>CurrencyDesc_Pound sterling</td>\n",
       "      <td>0.317360</td>\n",
       "    </tr>\n",
       "    <tr>\n",
       "      <th>42</th>\n",
       "      <td>CurrencySymbol_GBP</td>\n",
       "      <td>0.317360</td>\n",
       "    </tr>\n",
       "    <tr>\n",
       "      <th>110</th>\n",
       "      <td>NEWDevOpsImpt_Somewhat important</td>\n",
       "      <td>0.283091</td>\n",
       "    </tr>\n",
       "    <tr>\n",
       "      <th>142</th>\n",
       "      <td>NEWOvertime_Never</td>\n",
       "      <td>0.268816</td>\n",
       "    </tr>\n",
       "    <tr>\n",
       "      <th>62</th>\n",
       "      <td>EdLevel_Some college/university study without ...</td>\n",
       "      <td>0.258322</td>\n",
       "    </tr>\n",
       "    <tr>\n",
       "      <th>116</th>\n",
       "      <td>NEWJobHunt_Curious about other opportunities;B...</td>\n",
       "      <td>0.258098</td>\n",
       "    </tr>\n",
       "    <tr>\n",
       "      <th>211</th>\n",
       "      <td>SOPartFreq_Multiple times per day</td>\n",
       "      <td>0.239820</td>\n",
       "    </tr>\n",
       "  </tbody>\n",
       "</table>\n",
       "</div>"
      ],
      "text/plain": [
       "                                               Feature  Coeficient\n",
       "22                                      Country_Brazil    0.683357\n",
       "215                 SOVisitFreq_Multiple times per day    0.548005\n",
       "108                  NEWDevOpsImpt_Extremely important    0.498106\n",
       "139                                 NEWOnboardGood_Yes    0.474300\n",
       "138        NEWOnboardGood_Onboarding? What onboarding?    0.433722\n",
       "144       NEWOvertime_Often: 1-2 days per week or more    0.418981\n",
       "40                                  CurrencySymbol_CAD    0.414955\n",
       "33                        CurrencyDesc_Canadian dollar    0.414955\n",
       "137                                  NEWOnboardGood_No    0.403266\n",
       "214                  SOVisitFreq_Daily or almost daily    0.349303\n",
       "209  SOPartFreq_I have never participated in Q&A on...    0.331884\n",
       "2                                          WorkWeekHrs    0.327498\n",
       "141                                  NEWOtherComms_Yes    0.326069\n",
       "36                         CurrencyDesc_Pound sterling    0.317360\n",
       "42                                  CurrencySymbol_GBP    0.317360\n",
       "110                   NEWDevOpsImpt_Somewhat important    0.283091\n",
       "142                                  NEWOvertime_Never    0.268816\n",
       "62   EdLevel_Some college/university study without ...    0.258322\n",
       "116  NEWJobHunt_Curious about other opportunities;B...    0.258098\n",
       "211                  SOPartFreq_Multiple times per day    0.239820"
      ]
     },
     "execution_count": 47,
     "metadata": {},
     "output_type": "execute_result"
    }
   ],
   "source": [
    "coefficients = pd.concat([pd.DataFrame({'Feature': X_train.columns}),\n",
    "                          pd.DataFrame(np.transpose(model.coef_))], axis=1)\n",
    "coefficients.rename(columns={0: 'Coeficient'}, inplace=True)\n",
    "coefficients.sort_values(by=['Coeficient'], ascending=False).head(20)"
   ]
  },
  {
   "cell_type": "code",
   "execution_count": null,
   "metadata": {},
   "outputs": [],
   "source": [
    "# compare"
   ]
  },
  {
   "cell_type": "code",
   "execution_count": 12,
   "metadata": {},
   "outputs": [
    {
     "name": "stderr",
     "output_type": "stream",
     "text": [
      "C:\\ProgramData\\Anaconda3\\lib\\site-packages\\sklearn\\model_selection\\_search.py:281: UserWarning: The total space of parameters 1 is smaller than n_iter=10. Running 1 iterations. For exhaustive searches, use GridSearchCV.\n",
      "  % (grid_size, self.n_iter, grid_size), UserWarning)\n"
     ]
    },
    {
     "name": "stdout",
     "output_type": "stream",
     "text": [
      "Accuracy score:  0.7180898542100566\n",
      "Precision_score:  0.5585106382978723\n",
      "Recall_score:  0.2118003025718608\n",
      "F1_score score:  0.3071297989031079\n"
     ]
    }
   ],
   "source": [
    "# Comparatively, AdaBoostClassifier is used to check if accuracy can be improved\n",
    "\n",
    "# build a classifier for ada boost\n",
    "cl_mode = AdaBoostClassifier()\n",
    "\n",
    "# reduce X matrix, cutoff is the minimum missing values in the column, the higher the cutoff, the less feastures in the dataset,\n",
    "# M01 np.whare?\n",
    "reduce_X = X.iloc[:, np.where((X.sum() > 500) == True)[0]]\n",
    "# num_feats.append(reduce_X.shape[1])\n",
    "\n",
    "# split the data into train and test\n",
    "X_train, X_test, y_train, y_test = train_test_split(reduce_X, y, test_size=0.3, random_state=42)\n",
    "\n",
    "# set up the hyperparameter search\n",
    "param_dist = {\"n_estimators\": [10, 100, 200],\n",
    "              \"learning_rate\": [0.2, 0.5, 1, 2]}\n",
    "\n",
    "# uncomment to use best estimators\n",
    "# param_dist = {\"n_estimators\": [200],\n",
    "#                \"learning_rate\": [0.5]}\n",
    "\n",
    "# Run a randomized search over the hyperparameters\n",
    "ada_search = RandomizedSearchCV(cl_mode, param_distributions=param_dist)\n",
    "\n",
    "# Fit the model on the training data\n",
    "ada_search.fit(X_train, y_train)\n",
    "\n",
    "# Make predictions on the test data\n",
    "ada_preds = ada_search.best_estimator_.predict(X_test)\n",
    "\n",
    "print('Accuracy score: ', format(accuracy_score(y_test, ada_preds)))\n",
    "print('Precision_score: ', format(precision_score(y_test, ada_preds)))\n",
    "print('Recall_score: ', format(recall_score(y_test, ada_preds)))\n",
    "print('F1_score score: ', format(f1_score(y_test, ada_preds)))\n"
   ]
  },
  {
   "cell_type": "markdown",
   "metadata": {},
   "source": [
    "## Evaluate the Results"
   ]
  }
 ],
 "metadata": {
  "kernelspec": {
   "display_name": "Python 3",
   "language": "python",
   "name": "python3"
  },
  "language_info": {
   "codemirror_mode": {
    "name": "ipython",
    "version": 3
   },
   "file_extension": ".py",
   "mimetype": "text/x-python",
   "name": "python",
   "nbconvert_exporter": "python",
   "pygments_lexer": "ipython3",
   "version": "3.7.6"
  }
 },
 "nbformat": 4,
 "nbformat_minor": 2
}
